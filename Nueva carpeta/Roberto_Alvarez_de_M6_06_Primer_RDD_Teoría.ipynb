{
  "cells": [
    {
      "cell_type": "markdown",
      "metadata": {
        "id": "G0LOaPyAgCU8"
      },
      "source": [
        "#  RDDs "
      ]
    },
    {
      "cell_type": "markdown",
      "metadata": {
        "id": "yxqIrsY-gCVB"
      },
      "source": [
        "# Creamos un contexto para crear RDDs"
      ]
    },
    {
      "cell_type": "code",
      "execution_count": null,
      "metadata": {
        "id": "T3SkkrkIgCVD",
        "colab": {
          "base_uri": "https://localhost:8080/"
        },
        "outputId": "fc02ed00-30c3-4e0f-8ea3-475cb9cd9aea"
      },
      "outputs": [
        {
          "output_type": "stream",
          "name": "stdout",
          "text": [
            "\u001b[2K     \u001b[90m━━━━━━━━━━━━━━━━━━━━━━━━━━━━━━━━━━━━━━━\u001b[0m \u001b[32m310.8/310.8 MB\u001b[0m \u001b[31m3.3 MB/s\u001b[0m eta \u001b[36m0:00:00\u001b[0m\n",
            "\u001b[?25h  Preparing metadata (setup.py) ... \u001b[?25l\u001b[?25hdone\n",
            "  Building wheel for pyspark (setup.py) ... \u001b[?25l\u001b[?25hdone\n"
          ]
        }
      ],
      "source": [
        "!pip install pyspark --quiet\n",
        "from pyspark import SparkContext"
      ]
    },
    {
      "cell_type": "code",
      "execution_count": null,
      "metadata": {
        "id": "_X-TkHs-gCVE"
      },
      "outputs": [],
      "source": [
        "sc = SparkContext(master = \"local\", appName=\"TransformacionesyAcciones\")"
      ]
    },
    {
      "cell_type": "markdown",
      "metadata": {
        "id": "oYNeSv5EgCVF"
      },
      "source": [
        "# Un RDD es una colección inmutable y distribuida de elementos\n",
        "\n",
        "### Spark automaticamente distribuye los datos y paraleliza las operaciones\n",
        "\n",
        "### Los RDD realmente cargan colecciones de datos"
      ]
    },
    {
      "cell_type": "code",
      "execution_count": null,
      "metadata": {
        "id": "-yfNRIqPgCVF",
        "colab": {
          "base_uri": "https://localhost:8080/",
          "height": 166
        },
        "outputId": "e54d0c3b-68da-48be-ccef-db834980d345"
      },
      "outputs": [
        {
          "output_type": "error",
          "ename": "NameError",
          "evalue": "ignored",
          "traceback": [
            "\u001b[0;31m---------------------------------------------------------------------------\u001b[0m",
            "\u001b[0;31mNameError\u001b[0m                                 Traceback (most recent call last)",
            "\u001b[0;32m<ipython-input-2-f2ab5df0bef1>\u001b[0m in \u001b[0;36m<cell line: 1>\u001b[0;34m()\u001b[0m\n\u001b[0;32m----> 1\u001b[0;31m \u001b[0mrdd1\u001b[0m \u001b[0;34m=\u001b[0m \u001b[0msc\u001b[0m\u001b[0;34m.\u001b[0m\u001b[0mparallelize\u001b[0m\u001b[0;34m(\u001b[0m\u001b[0;34m[\u001b[0m\u001b[0;36m1\u001b[0m\u001b[0;34m,\u001b[0m\u001b[0;36m2\u001b[0m\u001b[0;34m,\u001b[0m\u001b[0;36m3\u001b[0m\u001b[0;34m]\u001b[0m\u001b[0;34m)\u001b[0m\u001b[0;34m\u001b[0m\u001b[0;34m\u001b[0m\u001b[0m\n\u001b[0m",
            "\u001b[0;31mNameError\u001b[0m: name 'sc' is not defined"
          ]
        }
      ],
      "source": [
        "rdd1 = sc.parallelize([1,2,3])"
      ]
    },
    {
      "cell_type": "markdown",
      "metadata": {
        "id": "7daw3WsugCVF"
      },
      "source": [
        "### Debido a la propiedad de distribución que tienen los RDD, en su creación, podemos particionar los datos"
      ]
    },
    {
      "cell_type": "code",
      "execution_count": null,
      "metadata": {
        "id": "gV_9CtH-gCVG"
      },
      "outputs": [],
      "source": [
        "import numpy as np\n",
        "rdd2 = sc.parallelize(np.array(range(100)),2)"
      ]
    },
    {
      "cell_type": "markdown",
      "metadata": {
        "id": "OXf9xyz4gCVG"
      },
      "source": [
        "### Verificamos el tipo de dato"
      ]
    },
    {
      "cell_type": "code",
      "execution_count": null,
      "metadata": {
        "id": "-6IXNzw2gCVG",
        "colab": {
          "base_uri": "https://localhost:8080/"
        },
        "outputId": "c884c56c-5950-4f64-eab3-de5c9e3355bd"
      },
      "outputs": [
        {
          "output_type": "execute_result",
          "data": {
            "text/plain": [
              "pyspark.rdd.RDD"
            ]
          },
          "metadata": {},
          "execution_count": 7
        }
      ],
      "source": [
        "type(rdd1)"
      ]
    },
    {
      "cell_type": "markdown",
      "metadata": {
        "id": "M9fdoJ87gCVG"
      },
      "source": [
        "### Vemos el contenido\n",
        "\n",
        "Veremos distintas tecnicas apropiadas para ver el contenido de los RDDs y Dataframes"
      ]
    },
    {
      "cell_type": "code",
      "execution_count": null,
      "metadata": {
        "id": "QzqUUjhCgCVH",
        "colab": {
          "base_uri": "https://localhost:8080/"
        },
        "outputId": "28fcf1cd-4dba-4e5f-ac8b-7ae11a3e9fc9"
      },
      "outputs": [
        {
          "output_type": "execute_result",
          "data": {
            "text/plain": [
              "[1, 2, 3]"
            ]
          },
          "metadata": {},
          "execution_count": 8
        }
      ],
      "source": [
        "rdd1.collect()"
      ]
    },
    {
      "cell_type": "markdown",
      "metadata": {
        "id": "cvXwqRwdgCVH"
      },
      "source": [
        "# Carga de un arhivo CSV"
      ]
    },
    {
      "cell_type": "markdown",
      "metadata": {
        "id": "OfQ67xw1gCVI"
      },
      "source": [
        "### Cargamos un RDDs\n",
        "\n",
        "El método textFile busca el archivo en la ruta indicada\n",
        "\n",
        "Cambia el valor de la ruta para que apunte a la ruta donde tienes los datos"
      ]
    },
    {
      "cell_type": "code",
      "execution_count": null,
      "metadata": {
        "id": "9AG-1zOcgCVI",
        "colab": {
          "base_uri": "https://localhost:8080/"
        },
        "outputId": "ae78a86e-489c-4c42-9067-2ff97c55f9bb"
      },
      "outputs": [
        {
          "output_type": "stream",
          "name": "stdout",
          "text": [
            "Mounted at /content/drive/\n"
          ]
        }
      ],
      "source": [
        "from google.colab import drive\n",
        "drive.mount('/content/drive/')\n",
        "\n",
        "equiposOlimpicosRDD = sc.textFile(\"/content/drive/MyDrive/Colab Notebooks/RED.ES/Datos Ejercicios/M6/paises.csv\",2).map(lambda line : line.split(\",\"))"
      ]
    },
    {
      "cell_type": "markdown",
      "metadata": {
        "id": "FGKXqN4sgCVI"
      },
      "source": [
        "### Vemos el contenido\n",
        "\n",
        "El método take es otro método existnte para poder visualizar el contenido de los RDDs"
      ]
    },
    {
      "cell_type": "code",
      "execution_count": null,
      "metadata": {
        "id": "HA3o7cq1gCVI",
        "colab": {
          "base_uri": "https://localhost:8080/"
        },
        "outputId": "32c7d54e-ed17-41a6-fee1-0c20150e55e2"
      },
      "outputs": [
        {
          "output_type": "execute_result",
          "data": {
            "text/plain": [
              "[['id', 'equipo', 'sigla'],\n",
              " ['1', '30. Februar', 'AUT'],\n",
              " ['2', 'A North American Team', 'MEX'],\n",
              " ['3', 'Acipactli', 'MEX'],\n",
              " ['4', 'Acturus', 'ARG'],\n",
              " ['5', 'Afghanistan', 'AFG'],\n",
              " ['6', 'Akatonbo', 'IRL'],\n",
              " ['7', 'Alain IV', 'SUI'],\n",
              " ['8', 'Albania', 'ALB'],\n",
              " ['9', 'Alcaid', 'POR']]"
            ]
          },
          "metadata": {},
          "execution_count": 10
        }
      ],
      "source": [
        "equiposOlimpicosRDD.take(10)"
      ]
    },
    {
      "cell_type": "code",
      "execution_count": null,
      "metadata": {
        "id": "LfOUKBkvgCVJ"
      },
      "outputs": [],
      "source": [
        "sc.stop()"
      ]
    },
    {
      "cell_type": "markdown",
      "source": [
        "## Ejercicio:\n",
        "\n",
        "Intenta leer un archivo csv o de texto y hacer alguna transformación.\n",
        "\n",
        "* Busca el archivo del quijote.txt por internet. \n",
        "* Subelo a Google COlab e importalo con pyspark. \n",
        "* Cuenta los caracteres del fichero."
      ],
      "metadata": {
        "id": "a0DSWeq2xcEH"
      }
    },
    {
      "cell_type": "code",
      "source": [
        "#Inserta aquí tú código\n",
        "Quijote = sc.textFile(\"/content/el_quijote.txt\")"
      ],
      "metadata": {
        "id": "vSx9LCyjxo9f"
      },
      "execution_count": null,
      "outputs": []
    },
    {
      "cell_type": "code",
      "source": [
        "Caracteres = Quijote.map(lambda x: len(x)).sum()\n",
        "print(Caracteres)"
      ],
      "metadata": {
        "colab": {
          "base_uri": "https://localhost:8080/"
        },
        "id": "EAHpcvChHu1d",
        "outputId": "67db64a2-f543-42bf-90d6-b37da9c3e915"
      },
      "execution_count": null,
      "outputs": [
        {
          "output_type": "stream",
          "name": "stdout",
          "text": [
            "1036211\n"
          ]
        }
      ]
    },
    {
      "cell_type": "code",
      "source": [
        "sc.stop() ### (No sé si es necesario hacer esto o si no se ha llegado a crear ningún cluster)"
      ],
      "metadata": {
        "id": "-HJlvEyzJfsU"
      },
      "execution_count": null,
      "outputs": []
    }
  ],
  "metadata": {
    "kernelspec": {
      "display_name": "Python 3",
      "language": "python",
      "name": "python3"
    },
    "language_info": {
      "codemirror_mode": {
        "name": "ipython",
        "version": 3
      },
      "file_extension": ".py",
      "mimetype": "text/x-python",
      "name": "python",
      "nbconvert_exporter": "python",
      "pygments_lexer": "ipython3",
      "version": "3.8.5"
    },
    "colab": {
      "provenance": []
    }
  },
  "nbformat": 4,
  "nbformat_minor": 0
}